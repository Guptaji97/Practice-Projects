{
 "cells": [
  {
   "cell_type": "markdown",
   "id": "4cb9fd24",
   "metadata": {},
   "source": [
    "Factorial of number"
   ]
  },
  {
   "cell_type": "code",
   "execution_count": 5,
   "id": "da35a244",
   "metadata": {},
   "outputs": [
    {
     "name": "stdout",
     "output_type": "stream",
     "text": [
      "Enter a number: 5\n",
      "120\n"
     ]
    }
   ],
   "source": [
    "n=int(input(\"Enter a number: \"))\n",
    "\n",
    "def fact(a):\n",
    "    if a>1:\n",
    "        return a*fact(a-1)\n",
    "    \n",
    "    elif a==1 or a==0:\n",
    "        return 1\n",
    "    \n",
    "print(fact(n))"
   ]
  },
  {
   "cell_type": "code",
   "execution_count": 9,
   "id": "ab8d5d89",
   "metadata": {},
   "outputs": [
    {
     "name": "stdout",
     "output_type": "stream",
     "text": [
      "pLAYliSt\n"
     ]
    }
   ],
   "source": [
    "st= \"PlayLIsT\"\n",
    "s=\"\"\n",
    "for i in st:\n",
    "    if i.isupper():\n",
    "        i=i.lower()\n",
    "        \n",
    "    else:\n",
    "        i= i.upper()\n",
    "    s=s+i\n",
    "    \n",
    "print(s)"
   ]
  },
  {
   "cell_type": "markdown",
   "id": "e6e50262",
   "metadata": {},
   "source": [
    "#### Write a program to swap the case of the given string. i.e. swap upper case to lower and viceversa---> \"dEVtOWN\"."
   ]
  },
  {
   "cell_type": "code",
   "execution_count": 18,
   "id": "03a8acff",
   "metadata": {},
   "outputs": [
    {
     "name": "stdout",
     "output_type": "stream",
     "text": [
      "DevTown\n"
     ]
    }
   ],
   "source": [
    "st= \"dEVtOWN\"\n",
    "def case(s):\n",
    "    if s.isupper():\n",
    "        return s.lower()\n",
    "        \n",
    "    else:\n",
    "        return s.upper()\n",
    "s=\"\"\n",
    "for i in st:\n",
    "    s+=case(i)\n",
    "    \n",
    "print(s)"
   ]
  },
  {
   "cell_type": "code",
   "execution_count": 19,
   "id": "63b2e765",
   "metadata": {},
   "outputs": [
    {
     "data": {
      "text/plain": [
       "'DevTown'"
      ]
     },
     "execution_count": 19,
     "metadata": {},
     "output_type": "execute_result"
    }
   ],
   "source": [
    "st.swapcase()"
   ]
  },
  {
   "cell_type": "code",
   "execution_count": null,
   "id": "bb87231a",
   "metadata": {},
   "outputs": [],
   "source": []
  },
  {
   "cell_type": "markdown",
   "id": "3e2e8840",
   "metadata": {},
   "source": [
    "#### Palindrome"
   ]
  },
  {
   "cell_type": "code",
   "execution_count": 38,
   "id": "81d891b0",
   "metadata": {},
   "outputs": [
    {
     "name": "stdout",
     "output_type": "stream",
     "text": [
      "Enter a word: abcdcba\n",
      "palindrome\n"
     ]
    }
   ],
   "source": [
    "def pal(a):\n",
    "    if a[::-1]==a:\n",
    "        return \"palindrome\"\n",
    "    else:\n",
    "        return \"Not palindrome\"\n",
    "    \n",
    "x=input(\"Enter a word: \").lower()\n",
    "print(pal(x))"
   ]
  },
  {
   "cell_type": "code",
   "execution_count": 40,
   "id": "347a8cf0",
   "metadata": {},
   "outputs": [
    {
     "data": {
      "text/plain": [
       "['H', 'e', 'l', 'l', 'o']"
      ]
     },
     "execution_count": 40,
     "metadata": {},
     "output_type": "execute_result"
    }
   ],
   "source": [
    "x=\"Hello\"\n",
    "x=list(x)\n",
    "x"
   ]
  },
  {
   "cell_type": "code",
   "execution_count": 41,
   "id": "4ede5d9d",
   "metadata": {},
   "outputs": [
    {
     "name": "stdout",
     "output_type": "stream",
     "text": [
      "['o', 'l', 'l', 'e', 'H']\n"
     ]
    }
   ],
   "source": [
    "print(list(reversed(x)))"
   ]
  },
  {
   "cell_type": "code",
   "execution_count": 42,
   "id": "cb48627d",
   "metadata": {},
   "outputs": [],
   "source": [
    "x.reverse()    #this returns none so never use it with print i.e. print(x.reverse())"
   ]
  },
  {
   "cell_type": "code",
   "execution_count": 43,
   "id": "e442d058",
   "metadata": {},
   "outputs": [
    {
     "name": "stdout",
     "output_type": "stream",
     "text": [
      "['o', 'l', 'l', 'e', 'H']\n"
     ]
    }
   ],
   "source": [
    "print(x)"
   ]
  },
  {
   "cell_type": "code",
   "execution_count": null,
   "id": "35ae2d2c",
   "metadata": {},
   "outputs": [],
   "source": []
  },
  {
   "cell_type": "code",
   "execution_count": null,
   "id": "8f68b765",
   "metadata": {},
   "outputs": [],
   "source": []
  },
  {
   "cell_type": "markdown",
   "id": "d607f753",
   "metadata": {},
   "source": [
    "#### Rock Paper Scissors"
   ]
  },
  {
   "cell_type": "code",
   "execution_count": 6,
   "id": "ff42af09",
   "metadata": {},
   "outputs": [
    {
     "name": "stdout",
     "output_type": "stream",
     "text": [
      "Do you want to continue? (Y or N): Y\n",
      "Player1 Choose from 'Rock\\Papers\\Scissors': rock\n",
      "Player2 Choose from 'Rock\\Papers\\Scissors': paper\n",
      "Congratulations Player2\n",
      "Do you want to continue? (Y or N): n\n",
      "Thanks, to chose to discontinue.\n"
     ]
    }
   ],
   "source": [
    "def game():\n",
    "    p1= input(\"Player1 Choose from 'Rock\\Papers\\Scissors': \").lower()\n",
    "    p2= input(\"Player2 Choose from 'Rock\\Papers\\Scissors': \").lower()\n",
    "    \n",
    "    if (p1=='rock' and p2=='scissors') or (p1=='scissors' and p2=='paper') or (p1=='paper' and p2=='rock'):\n",
    "        print(\"Congratulations Player1\")\n",
    "        \n",
    "    else:\n",
    "        print(\"Congratulations Player2\")\n",
    "        \n",
    "\n",
    "while True:\n",
    "9    if (input(\"Do you want to continue? (Y or N): \").lower()) == 'y':\n",
    "        game()\n",
    "    \n",
    "    else:\n",
    "        print(\"Thanks, to chose to discontinue.\")\n",
    "        break"
   ]
  },
  {
   "cell_type": "code",
   "execution_count": null,
   "id": "5ca8f796",
   "metadata": {},
   "outputs": [],
   "source": []
  },
  {
   "cell_type": "code",
   "execution_count": null,
   "id": "7a00c767",
   "metadata": {},
   "outputs": [],
   "source": []
  },
  {
   "cell_type": "code",
   "execution_count": 8,
   "id": "f0abb34b",
   "metadata": {},
   "outputs": [
    {
     "ename": "KeyboardInterrupt",
     "evalue": "Interrupted by user",
     "output_type": "error",
     "traceback": [
      "\u001b[1;31m---------------------------------------------------------------------------\u001b[0m",
      "\u001b[1;31mKeyboardInterrupt\u001b[0m                         Traceback (most recent call last)",
      "\u001b[1;32m~\\AppData\\Local\\Temp/ipykernel_1740/1909542825.py\u001b[0m in \u001b[0;36m<module>\u001b[1;34m\u001b[0m\n\u001b[1;32m----> 1\u001b[1;33m \u001b[0mn\u001b[0m\u001b[1;33m=\u001b[0m \u001b[0mint\u001b[0m \u001b[1;33m(\u001b[0m\u001b[0minput\u001b[0m\u001b[1;33m(\u001b[0m\u001b[1;34m'Enter total elements in list and then enter elements: '\u001b[0m\u001b[1;33m)\u001b[0m\u001b[1;33m)\u001b[0m\u001b[1;33m\u001b[0m\u001b[1;33m\u001b[0m\u001b[0m\n\u001b[0m\u001b[0;32m      2\u001b[0m \u001b[0ml\u001b[0m\u001b[1;33m=\u001b[0m\u001b[1;33m[\u001b[0m\u001b[1;33m]\u001b[0m\u001b[1;33m\u001b[0m\u001b[1;33m\u001b[0m\u001b[0m\n\u001b[0;32m      3\u001b[0m \u001b[1;32mfor\u001b[0m \u001b[0mi\u001b[0m \u001b[1;32min\u001b[0m \u001b[0mrange\u001b[0m\u001b[1;33m(\u001b[0m\u001b[0mn\u001b[0m\u001b[1;33m)\u001b[0m\u001b[1;33m:\u001b[0m\u001b[1;33m\u001b[0m\u001b[1;33m\u001b[0m\u001b[0m\n\u001b[0;32m      4\u001b[0m     \u001b[0ml\u001b[0m\u001b[1;33m.\u001b[0m\u001b[0mappend\u001b[0m\u001b[1;33m(\u001b[0m\u001b[0mint\u001b[0m\u001b[1;33m(\u001b[0m\u001b[0minput\u001b[0m\u001b[1;33m(\u001b[0m\u001b[1;33m)\u001b[0m\u001b[1;33m)\u001b[0m\u001b[1;33m)\u001b[0m\u001b[1;33m\u001b[0m\u001b[1;33m\u001b[0m\u001b[0m\n\u001b[0;32m      5\u001b[0m \u001b[1;33m\u001b[0m\u001b[0m\n",
      "\u001b[1;32m~\\anaconda3\\lib\\site-packages\\ipykernel\\kernelbase.py\u001b[0m in \u001b[0;36mraw_input\u001b[1;34m(self, prompt)\u001b[0m\n\u001b[0;32m   1004\u001b[0m                 \u001b[1;34m\"raw_input was called, but this frontend does not support input requests.\"\u001b[0m\u001b[1;33m\u001b[0m\u001b[1;33m\u001b[0m\u001b[0m\n\u001b[0;32m   1005\u001b[0m             )\n\u001b[1;32m-> 1006\u001b[1;33m         return self._input_request(\n\u001b[0m\u001b[0;32m   1007\u001b[0m             \u001b[0mstr\u001b[0m\u001b[1;33m(\u001b[0m\u001b[0mprompt\u001b[0m\u001b[1;33m)\u001b[0m\u001b[1;33m,\u001b[0m\u001b[1;33m\u001b[0m\u001b[1;33m\u001b[0m\u001b[0m\n\u001b[0;32m   1008\u001b[0m             \u001b[0mself\u001b[0m\u001b[1;33m.\u001b[0m\u001b[0m_parent_ident\u001b[0m\u001b[1;33m[\u001b[0m\u001b[1;34m\"shell\"\u001b[0m\u001b[1;33m]\u001b[0m\u001b[1;33m,\u001b[0m\u001b[1;33m\u001b[0m\u001b[1;33m\u001b[0m\u001b[0m\n",
      "\u001b[1;32m~\\anaconda3\\lib\\site-packages\\ipykernel\\kernelbase.py\u001b[0m in \u001b[0;36m_input_request\u001b[1;34m(self, prompt, ident, parent, password)\u001b[0m\n\u001b[0;32m   1049\u001b[0m             \u001b[1;32mexcept\u001b[0m \u001b[0mKeyboardInterrupt\u001b[0m\u001b[1;33m:\u001b[0m\u001b[1;33m\u001b[0m\u001b[1;33m\u001b[0m\u001b[0m\n\u001b[0;32m   1050\u001b[0m                 \u001b[1;31m# re-raise KeyboardInterrupt, to truncate traceback\u001b[0m\u001b[1;33m\u001b[0m\u001b[1;33m\u001b[0m\u001b[0m\n\u001b[1;32m-> 1051\u001b[1;33m                 \u001b[1;32mraise\u001b[0m \u001b[0mKeyboardInterrupt\u001b[0m\u001b[1;33m(\u001b[0m\u001b[1;34m\"Interrupted by user\"\u001b[0m\u001b[1;33m)\u001b[0m \u001b[1;32mfrom\u001b[0m \u001b[1;32mNone\u001b[0m\u001b[1;33m\u001b[0m\u001b[1;33m\u001b[0m\u001b[0m\n\u001b[0m\u001b[0;32m   1052\u001b[0m             \u001b[1;32mexcept\u001b[0m \u001b[0mException\u001b[0m\u001b[1;33m:\u001b[0m\u001b[1;33m\u001b[0m\u001b[1;33m\u001b[0m\u001b[0m\n\u001b[0;32m   1053\u001b[0m                 \u001b[0mself\u001b[0m\u001b[1;33m.\u001b[0m\u001b[0mlog\u001b[0m\u001b[1;33m.\u001b[0m\u001b[0mwarning\u001b[0m\u001b[1;33m(\u001b[0m\u001b[1;34m\"Invalid Message:\"\u001b[0m\u001b[1;33m,\u001b[0m \u001b[0mexc_info\u001b[0m\u001b[1;33m=\u001b[0m\u001b[1;32mTrue\u001b[0m\u001b[1;33m)\u001b[0m\u001b[1;33m\u001b[0m\u001b[1;33m\u001b[0m\u001b[0m\n",
      "\u001b[1;31mKeyboardInterrupt\u001b[0m: Interrupted by user"
     ]
    }
   ],
   "source": [
    "n= int (input('Enter total elements in list and then enter elements: '))\n",
    "l=[]\n",
    "for i in range(n):\n",
    "    l.append(int(input()))\n",
    "\n",
    "for i in l:\n",
    "    if i%2==0:\n",
    "        print(pow(i,1/3))\n",
    "    else:\n",
    "        print(pow(i,2))"
   ]
  },
  {
   "cell_type": "code",
   "execution_count": 13,
   "id": "1d595336",
   "metadata": {},
   "outputs": [
    {
     "data": {
      "text/plain": [
       "'New york'"
      ]
     },
     "execution_count": 13,
     "metadata": {},
     "output_type": "execute_result"
    }
   ],
   "source": [
    "d = { \"name\": \"Kelly\", \"age\":25, \"salary\": 8000, \"city\": \"New york\"}\n",
    "d[\"location\"]=d[\"city\"]\n",
    "d.pop(\"city\")"
   ]
  },
  {
   "cell_type": "markdown",
   "id": "ed7d95bb",
   "metadata": {},
   "source": [
    "Write a program asks for City name and Temperature and builds a dictionary using that Later on you can input City name and it will tell you the Temperature of that City."
   ]
  },
  {
   "cell_type": "code",
   "execution_count": 21,
   "id": "23ff42a9",
   "metadata": {},
   "outputs": [
    {
     "name": "stdout",
     "output_type": "stream",
     "text": [
      "Enter total cities: 2\n",
      "Enter City: 1\n",
      "Enter Temperature: 23\n",
      "Enter City: 2\n",
      "Enter Temperature: 34\n",
      "Enter a city to get temperature: 2\n"
     ]
    },
    {
     "data": {
      "text/plain": [
       "34"
      ]
     },
     "execution_count": 21,
     "metadata": {},
     "output_type": "execute_result"
    }
   ],
   "source": [
    "n= int(input(\"Enter total cities: \"))\n",
    "city=[]\n",
    "temp=[]\n",
    "for i in range(n):\n",
    "    city.append(input(\"Enter City: \"))\n",
    "    temp.append (int(input(\"Enter Temperature: \")))\n",
    "    \n",
    "d={city[i]:temp[i] for i in range(len(city))}\n",
    "\n",
    "print(\"temperature is: \"d[input(\"Enter a city to get temperature: \")]"
   ]
  },
  {
   "cell_type": "markdown",
   "id": "6042db34",
   "metadata": {},
   "source": [
    "l=[10,20,4,7,11,5]\n",
    "\n",
    "l=[i*i for i in l]"
   ]
  },
  {
   "cell_type": "code",
   "execution_count": 23,
   "id": "11cd3281",
   "metadata": {},
   "outputs": [
    {
     "data": {
      "text/plain": [
       "[100, 400, 16, 49, 121, 25]"
      ]
     },
     "execution_count": 23,
     "metadata": {},
     "output_type": "execute_result"
    }
   ],
   "source": [
    "l=[10,20,4,7,11,5]\n",
    "\n",
    "l=[i*i for i in l]\n",
    "l"
   ]
  },
  {
   "cell_type": "code",
   "execution_count": 24,
   "id": "4f4b43b0",
   "metadata": {},
   "outputs": [
    {
     "name": "stdout",
     "output_type": "stream",
     "text": [
      "Enter kilometes: 4\n",
      "4 kilometers in miles is 2.4860161591050343\n"
     ]
    }
   ],
   "source": [
    "k=int(input(\"Enter kilometes: \"))\n",
    "\n",
    "print(\"{0} kilometers in miles is {1}\".format(k,k/1.609))"
   ]
  },
  {
   "cell_type": "code",
   "execution_count": 25,
   "id": "a890a524",
   "metadata": {},
   "outputs": [
    {
     "name": "stdout",
     "output_type": "stream",
     "text": [
      "Enter temperature: 0\n",
      "0 Celcius in Farenhiet is 32.0\n"
     ]
    }
   ],
   "source": [
    "c=int(input(\"Enter temperature: \"))\n",
    "\n",
    "print(\"{0} Celcius in Farenhiet is {1}\".format(c,(c*9/5)+32))"
   ]
  },
  {
   "cell_type": "code",
   "execution_count": 26,
   "id": "c2b79fd2",
   "metadata": {},
   "outputs": [
    {
     "name": "stdout",
     "output_type": "stream",
     "text": [
      "314.0\n"
     ]
    }
   ],
   "source": [
    "class circle:\n",
    "    def __init__(self,r):\n",
    "        self.rad=r\n",
    "        \n",
    "    def area(self):\n",
    "        return self.rad**2*3.14\n",
    "    \n",
    "print(circle(10).area())"
   ]
  },
  {
   "cell_type": "code",
   "execution_count": null,
   "id": "39f6ef8b",
   "metadata": {},
   "outputs": [],
   "source": []
  }
 ],
 "metadata": {
  "kernelspec": {
   "display_name": "Python 3 (ipykernel)",
   "language": "python",
   "name": "python3"
  },
  "language_info": {
   "codemirror_mode": {
    "name": "ipython",
    "version": 3
   },
   "file_extension": ".py",
   "mimetype": "text/x-python",
   "name": "python",
   "nbconvert_exporter": "python",
   "pygments_lexer": "ipython3",
   "version": "3.9.7"
  }
 },
 "nbformat": 4,
 "nbformat_minor": 5
}
